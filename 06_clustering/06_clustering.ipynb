{
 "cells": [
  {
   "cell_type": "code",
   "execution_count": null,
   "id": "549e0fd3",
   "metadata": {},
   "outputs": [],
   "source": [
    "\"\"\"\n",
    "Script to implement and run clustering analysis on the fake news dataset.\n",
    "\"\"\""
   ]
  },
  {
   "cell_type": "code",
   "execution_count": null,
   "id": "ef023ca2",
   "metadata": {},
   "outputs": [],
   "source": [
    "import pandas as pd\n",
    "import numpy as np\n",
    "import os\n",
    "import time\n",
    "import pickle\n",
    "import json\n",
    "import matplotlib.pyplot as plt\n",
    "import seaborn as sns\n",
    "from sklearn.feature_extraction.text import TfidfVectorizer\n",
    "from sklearn.cluster import KMeans, DBSCAN\n",
    "from sklearn.decomposition import PCA, LatentDirichletAllocation\n",
    "from sklearn.metrics import silhouette_score\n",
    "from sklearn.manifold import TSNE\n",
    "import matplotlib.cm as cm"
   ]
  },
  {
   "cell_type": "code",
   "execution_count": null,
   "id": "68abe1e6",
   "metadata": {},
   "outputs": [],
   "source": [
    "# Start timer\n",
    "start_time = time.time()"
   ]
  },
  {
   "cell_type": "code",
   "execution_count": null,
   "id": "8e832d35",
   "metadata": {},
   "outputs": [],
   "source": [
    "# Define paths\n",
    "data_dir = \"/home/ubuntu/fake_news_detection/data\"\n",
    "models_dir = \"/home/ubuntu/fake_news_detection/models\"\n",
    "results_dir = \"/home/ubuntu/fake_news_detection/logs\""
   ]
  },
  {
   "cell_type": "code",
   "execution_count": null,
   "id": "e5f15cb3",
   "metadata": {},
   "outputs": [],
   "source": [
    "# Create directories if they don't exist\n",
    "os.makedirs(models_dir, exist_ok=True)\n",
    "os.makedirs(results_dir, exist_ok=True)"
   ]
  },
  {
   "cell_type": "code",
   "execution_count": null,
   "id": "3ccd186b",
   "metadata": {},
   "outputs": [],
   "source": [
    "print(\"Loading data...\")\n",
    "# Load the sampled data\n",
    "df = pd.read_csv(f\"{data_dir}/news_sample.csv\")"
   ]
  },
  {
   "cell_type": "code",
   "execution_count": null,
   "id": "8084756d",
   "metadata": {},
   "outputs": [],
   "source": [
    "# Basic preprocessing\n",
    "print(\"Preprocessing text...\")\n",
    "# Fill NaN values\n",
    "df['text'] = df['text'].fillna('')\n",
    "if 'title' in df.columns:\n",
    "    df['title'] = df['title'].fillna('')\n",
    "    # Combine title and text for better context\n",
    "    df['content'] = df['title'] + \" \" + df['text']\n",
    "else:\n",
    "    df['content'] = df['text']"
   ]
  },
  {
   "cell_type": "code",
   "execution_count": null,
   "id": "34fc12fa",
   "metadata": {},
   "outputs": [],
   "source": [
    "# Convert to lowercase\n",
    "df['content'] = df['content'].str.lower()"
   ]
  },
  {
   "cell_type": "code",
   "execution_count": null,
   "id": "8d348e93",
   "metadata": {},
   "outputs": [],
   "source": [
    "print(f\"Dataset shape: {df.shape}\")\n",
    "print(f\"Class distribution:\\n{df['label'].value_counts()}\")"
   ]
  },
  {
   "cell_type": "code",
   "execution_count": null,
   "id": "2b6a50ae",
   "metadata": {},
   "outputs": [],
   "source": [
    "# Feature extraction with TF-IDF\n",
    "print(\"Extracting features...\")\n",
    "vectorizer = TfidfVectorizer(max_features=1000, stop_words='english')\n",
    "X_tfidf = vectorizer.fit_transform(df['content'])\n",
    "print(f\"TF-IDF matrix shape: {X_tfidf.shape}\")"
   ]
  },
  {
   "cell_type": "code",
   "execution_count": null,
   "id": "5e756b3c",
   "metadata": {},
   "outputs": [],
   "source": [
    "# Save feature names for later use\n",
    "feature_names = vectorizer.get_feature_names_out()"
   ]
  },
  {
   "cell_type": "code",
   "execution_count": null,
   "id": "fa3d580a",
   "metadata": {},
   "outputs": [],
   "source": [
    "# Perform K-means clustering\n",
    "print(\"Performing K-means clustering...\")\n",
    "# Determine optimal number of clusters using silhouette score\n",
    "silhouette_scores = []\n",
    "k_values = range(2, 11)  # Try 2 to 10 clusters"
   ]
  },
  {
   "cell_type": "code",
   "execution_count": null,
   "id": "824a7a35",
   "metadata": {},
   "outputs": [],
   "source": [
    "for k in k_values:\n",
    "    kmeans = KMeans(n_clusters=k, random_state=42, n_init=10)\n",
    "    cluster_labels = kmeans.fit_predict(X_tfidf)\n",
    "    silhouette_avg = silhouette_score(X_tfidf, cluster_labels)\n",
    "    silhouette_scores.append(silhouette_avg)\n",
    "    print(f\"K={k}, Silhouette Score={silhouette_avg:.4f}\")"
   ]
  },
  {
   "cell_type": "code",
   "execution_count": null,
   "id": "6380e95f",
   "metadata": {},
   "outputs": [],
   "source": [
    "# Find optimal k\n",
    "optimal_k = k_values[np.argmax(silhouette_scores)]\n",
    "print(f\"Optimal number of clusters: {optimal_k}\")"
   ]
  },
  {
   "cell_type": "code",
   "execution_count": null,
   "id": "70127636",
   "metadata": {},
   "outputs": [],
   "source": [
    "# Run K-means with optimal k\n",
    "kmeans = KMeans(n_clusters=optimal_k, random_state=42, n_init=10)\n",
    "df['kmeans_cluster'] = kmeans.fit_predict(X_tfidf)"
   ]
  },
  {
   "cell_type": "code",
   "execution_count": null,
   "id": "5ade5d4b",
   "metadata": {},
   "outputs": [],
   "source": [
    "# Visualize silhouette scores\n",
    "plt.figure(figsize=(10, 6))\n",
    "plt.plot(k_values, silhouette_scores, 'o-')\n",
    "plt.xlabel('Number of clusters (k)')\n",
    "plt.ylabel('Silhouette Score')\n",
    "plt.title('Silhouette Score vs. Number of Clusters')\n",
    "plt.grid(True)\n",
    "plt.savefig(f\"{results_dir}/kmeans_silhouette_scores.png\")"
   ]
  },
  {
   "cell_type": "code",
   "execution_count": null,
   "id": "813a4e36",
   "metadata": {},
   "outputs": [],
   "source": [
    "# Perform dimensionality reduction for visualization\n",
    "print(\"Performing dimensionality reduction for visualization...\")\n",
    "pca = PCA(n_components=2, random_state=42)\n",
    "X_pca = pca.fit_transform(X_tfidf.toarray())"
   ]
  },
  {
   "cell_type": "code",
   "execution_count": null,
   "id": "18595fe3",
   "metadata": {},
   "outputs": [],
   "source": [
    "# Visualize clusters with PCA\n",
    "plt.figure(figsize=(12, 8))\n",
    "scatter = plt.scatter(X_pca[:, 0], X_pca[:, 1], c=df['kmeans_cluster'], cmap='viridis', alpha=0.7)\n",
    "plt.colorbar(scatter, label='Cluster')\n",
    "plt.title('K-means Clusters (PCA)')\n",
    "plt.xlabel('Principal Component 1')\n",
    "plt.ylabel('Principal Component 2')\n",
    "plt.savefig(f\"{results_dir}/kmeans_clusters_pca.png\")"
   ]
  },
  {
   "cell_type": "code",
   "execution_count": null,
   "id": "c498eeb7",
   "metadata": {},
   "outputs": [],
   "source": [
    "# Visualize clusters with t-SNE for better separation\n",
    "print(\"Performing t-SNE for better visualization...\")\n",
    "tsne = TSNE(n_components=2, random_state=42, perplexity=30)\n",
    "X_tsne = tsne.fit_transform(X_tfidf.toarray())"
   ]
  },
  {
   "cell_type": "code",
   "execution_count": null,
   "id": "62f61b9c",
   "metadata": {},
   "outputs": [],
   "source": [
    "plt.figure(figsize=(12, 8))\n",
    "scatter = plt.scatter(X_tsne[:, 0], X_tsne[:, 1], c=df['kmeans_cluster'], cmap='viridis', alpha=0.7)\n",
    "plt.colorbar(scatter, label='Cluster')\n",
    "plt.title('K-means Clusters (t-SNE)')\n",
    "plt.xlabel('t-SNE Component 1')\n",
    "plt.ylabel('t-SNE Component 2')\n",
    "plt.savefig(f\"{results_dir}/kmeans_clusters_tsne.png\")"
   ]
  },
  {
   "cell_type": "code",
   "execution_count": null,
   "id": "708d49da",
   "metadata": {},
   "outputs": [],
   "source": [
    "# Analyze clusters\n",
    "print(\"Analyzing clusters...\")\n",
    "cluster_stats = df.groupby('kmeans_cluster').agg({\n",
    "    'label': ['count', 'mean'],  # mean of label gives proportion of real news (label=1)\n",
    "})\n",
    "cluster_stats.columns = ['count', 'real_proportion']\n",
    "cluster_stats['fake_proportion'] = 1 - cluster_stats['real_proportion']\n",
    "print(cluster_stats)"
   ]
  },
  {
   "cell_type": "code",
   "execution_count": null,
   "id": "b8d0da24",
   "metadata": {},
   "outputs": [],
   "source": [
    "# Visualize cluster composition\n",
    "plt.figure(figsize=(12, 6))\n",
    "cluster_stats[['real_proportion', 'fake_proportion']].plot(kind='bar', stacked=True, colormap='coolwarm')\n",
    "plt.title('Cluster Composition (Real vs Fake News)')\n",
    "plt.xlabel('Cluster')\n",
    "plt.ylabel('Proportion')\n",
    "plt.xticks(rotation=0)\n",
    "plt.legend(['Real News', 'Fake News'])\n",
    "plt.savefig(f\"{results_dir}/cluster_composition.png\")"
   ]
  },
  {
   "cell_type": "code",
   "execution_count": null,
   "id": "3b49d85e",
   "metadata": {},
   "outputs": [],
   "source": [
    "# Extract top terms for each cluster\n",
    "print(\"Extracting top terms for each cluster...\")\n",
    "kmeans_order_centroids = kmeans.cluster_centers_.argsort()[:, ::-1]\n",
    "top_terms = {}"
   ]
  },
  {
   "cell_type": "code",
   "execution_count": null,
   "id": "ee93de03",
   "metadata": {},
   "outputs": [],
   "source": [
    "for cluster in range(optimal_k):\n",
    "    top_terms[cluster] = [feature_names[ind] for ind in kmeans_order_centroids[cluster, :10]]\n",
    "    print(f\"Cluster {cluster}: {', '.join(top_terms[cluster])}\")"
   ]
  },
  {
   "cell_type": "code",
   "execution_count": null,
   "id": "439d17f6",
   "metadata": {},
   "outputs": [],
   "source": [
    "# Visualize top terms\n",
    "plt.figure(figsize=(15, 10))\n",
    "for i in range(optimal_k):\n",
    "    plt.subplot(int(np.ceil(optimal_k/2)), 2, i+1)\n",
    "    y_pos = np.arange(len(top_terms[i]))\n",
    "    plt.barh(y_pos, range(len(top_terms[i]), 0, -1))\n",
    "    plt.yticks(y_pos, top_terms[i])\n",
    "    plt.title(f'Cluster {i}')\n",
    "    plt.tight_layout()\n",
    "plt.savefig(f\"{results_dir}/cluster_top_terms.png\")"
   ]
  },
  {
   "cell_type": "code",
   "execution_count": null,
   "id": "99c62038",
   "metadata": {},
   "outputs": [],
   "source": [
    "# Perform topic modeling with LDA\n",
    "print(\"Performing topic modeling with LDA...\")\n",
    "n_topics = optimal_k  # Use same number as optimal clusters for comparison\n",
    "lda = LatentDirichletAllocation(n_components=n_topics, random_state=42)\n",
    "lda.fit(X_tfidf)"
   ]
  },
  {
   "cell_type": "code",
   "execution_count": null,
   "id": "7bbbe4db",
   "metadata": {},
   "outputs": [],
   "source": [
    "# Extract top terms for each topic\n",
    "lda_top_terms = {}\n",
    "for topic_idx, topic in enumerate(lda.components_):\n",
    "    top_indices = topic.argsort()[:-11:-1]  # Get indices of top 10 terms\n",
    "    lda_top_terms[topic_idx] = [feature_names[i] for i in top_indices]\n",
    "    print(f\"Topic {topic_idx}: {', '.join(lda_top_terms[topic_idx])}\")"
   ]
  },
  {
   "cell_type": "code",
   "execution_count": null,
   "id": "819d964b",
   "metadata": {},
   "outputs": [],
   "source": [
    "# Visualize LDA topics\n",
    "plt.figure(figsize=(15, 10))\n",
    "for i in range(n_topics):\n",
    "    plt.subplot(int(np.ceil(n_topics/2)), 2, i+1)\n",
    "    y_pos = np.arange(len(lda_top_terms[i]))\n",
    "    plt.barh(y_pos, range(len(lda_top_terms[i]), 0, -1))\n",
    "    plt.yticks(y_pos, lda_top_terms[i])\n",
    "    plt.title(f'Topic {i}')\n",
    "    plt.tight_layout()\n",
    "plt.savefig(f\"{results_dir}/lda_topics.png\")"
   ]
  },
  {
   "cell_type": "code",
   "execution_count": null,
   "id": "40ab7512",
   "metadata": {},
   "outputs": [],
   "source": [
    "# Get document-topic distributions\n",
    "doc_topic_dist = lda.transform(X_tfidf)\n",
    "df['dominant_topic'] = np.argmax(doc_topic_dist, axis=1)"
   ]
  },
  {
   "cell_type": "code",
   "execution_count": null,
   "id": "fcc174b1",
   "metadata": {},
   "outputs": [],
   "source": [
    "# Compare LDA topics with original labels\n",
    "topic_stats = df.groupby('dominant_topic').agg({\n",
    "    'label': ['count', 'mean'],  # mean of label gives proportion of real news (label=1)\n",
    "})\n",
    "topic_stats.columns = ['count', 'real_proportion']\n",
    "topic_stats['fake_proportion'] = 1 - topic_stats['real_proportion']\n",
    "print(topic_stats)"
   ]
  },
  {
   "cell_type": "code",
   "execution_count": null,
   "id": "52a6db65",
   "metadata": {},
   "outputs": [],
   "source": [
    "# Visualize topic composition\n",
    "plt.figure(figsize=(12, 6))\n",
    "topic_stats[['real_proportion', 'fake_proportion']].plot(kind='bar', stacked=True, colormap='coolwarm')\n",
    "plt.title('Topic Composition (Real vs Fake News)')\n",
    "plt.xlabel('Topic')\n",
    "plt.ylabel('Proportion')\n",
    "plt.xticks(rotation=0)\n",
    "plt.legend(['Real News', 'Fake News'])\n",
    "plt.savefig(f\"{results_dir}/topic_composition.png\")"
   ]
  },
  {
   "cell_type": "code",
   "execution_count": null,
   "id": "57239636",
   "metadata": {},
   "outputs": [],
   "source": [
    "# Compare K-means clusters with LDA topics\n",
    "comparison = pd.crosstab(df['kmeans_cluster'], df['dominant_topic'])\n",
    "print(\"K-means clusters vs LDA topics:\")\n",
    "print(comparison)"
   ]
  },
  {
   "cell_type": "code",
   "execution_count": null,
   "id": "b107e534",
   "metadata": {},
   "outputs": [],
   "source": [
    "plt.figure(figsize=(10, 8))\n",
    "sns.heatmap(comparison, annot=True, cmap='YlGnBu', fmt='d')\n",
    "plt.title('K-means Clusters vs LDA Topics')\n",
    "plt.xlabel('LDA Topic')\n",
    "plt.ylabel('K-means Cluster')\n",
    "plt.savefig(f\"{results_dir}/kmeans_vs_lda.png\")"
   ]
  },
  {
   "cell_type": "code",
   "execution_count": null,
   "id": "71f35a98",
   "metadata": {},
   "outputs": [],
   "source": [
    "# Create a dashboard-style visualization\n",
    "plt.figure(figsize=(15, 12))"
   ]
  },
  {
   "cell_type": "code",
   "execution_count": null,
   "id": "45c3c6c7",
   "metadata": {},
   "outputs": [],
   "source": [
    "# Cluster distribution\n",
    "plt.subplot(2, 2, 1)\n",
    "cluster_counts = df['kmeans_cluster'].value_counts().sort_index()\n",
    "plt.bar(cluster_counts.index, cluster_counts.values)\n",
    "plt.title('Documents per Cluster')\n",
    "plt.xlabel('Cluster')\n",
    "plt.ylabel('Count')"
   ]
  },
  {
   "cell_type": "code",
   "execution_count": null,
   "id": "d3a786bb",
   "metadata": {},
   "outputs": [],
   "source": [
    "# Topic distribution\n",
    "plt.subplot(2, 2, 2)\n",
    "topic_counts = df['dominant_topic'].value_counts().sort_index()\n",
    "plt.bar(topic_counts.index, topic_counts.values)\n",
    "plt.title('Documents per Topic')\n",
    "plt.xlabel('Topic')\n",
    "plt.ylabel('Count')"
   ]
  },
  {
   "cell_type": "code",
   "execution_count": null,
   "id": "7466ee63",
   "metadata": {},
   "outputs": [],
   "source": [
    "# t-SNE visualization with clusters\n",
    "plt.subplot(2, 2, 3)\n",
    "scatter = plt.scatter(X_tsne[:, 0], X_tsne[:, 1], c=df['kmeans_cluster'], cmap='viridis', alpha=0.7, s=30)\n",
    "plt.colorbar(scatter, label='Cluster')\n",
    "plt.title('K-means Clusters (t-SNE)')\n",
    "plt.xlabel('t-SNE Component 1')\n",
    "plt.ylabel('t-SNE Component 2')"
   ]
  },
  {
   "cell_type": "code",
   "execution_count": null,
   "id": "edd04997",
   "metadata": {},
   "outputs": [],
   "source": [
    "# t-SNE visualization with original labels\n",
    "plt.subplot(2, 2, 4)\n",
    "scatter = plt.scatter(X_tsne[:, 0], X_tsne[:, 1], c=df['label'], cmap='coolwarm', alpha=0.7, s=30)\n",
    "plt.colorbar(scatter, label='Label (0=Fake, 1=Real)')\n",
    "plt.title('Original Labels (t-SNE)')\n",
    "plt.xlabel('t-SNE Component 1')\n",
    "plt.ylabel('t-SNE Component 2')"
   ]
  },
  {
   "cell_type": "code",
   "execution_count": null,
   "id": "8cd4b72a",
   "metadata": {},
   "outputs": [],
   "source": [
    "plt.tight_layout()\n",
    "plt.savefig(f\"{results_dir}/clustering_dashboard.png\")"
   ]
  },
  {
   "cell_type": "code",
   "execution_count": null,
   "id": "8a9b1b01",
   "metadata": {},
   "outputs": [],
   "source": [
    "# Save clustering results\n",
    "clustering_results = {\n",
    "    \"kmeans\": {\n",
    "        \"optimal_k\": int(optimal_k),\n",
    "        \"silhouette_scores\": [float(score) for score in silhouette_scores],\n",
    "        \"cluster_stats\": cluster_stats.to_dict(),\n",
    "        \"top_terms\": top_terms\n",
    "    },\n",
    "    \"lda\": {\n",
    "        \"n_topics\": int(n_topics),\n",
    "        \"topic_stats\": topic_stats.to_dict(),\n",
    "        \"top_terms\": lda_top_terms\n",
    "    },\n",
    "    \"execution_time\": time.time() - start_time\n",
    "}"
   ]
  },
  {
   "cell_type": "code",
   "execution_count": null,
   "id": "04c70fb2",
   "metadata": {},
   "outputs": [],
   "source": [
    "with open(f\"{results_dir}/clustering_results.json\", \"w\") as f:\n",
    "    json.dump(clustering_results, f, indent=2)"
   ]
  },
  {
   "cell_type": "code",
   "execution_count": null,
   "id": "2e74473b",
   "metadata": {},
   "outputs": [],
   "source": [
    "print(f\"Clustering analysis completed in {time.time() - start_time:.2f} seconds\")\n",
    "print(f\"Results saved to {results_dir}\")"
   ]
  }
 ],
 "metadata": {
  "jupytext": {
   "cell_metadata_filter": "-all",
   "main_language": "python",
   "notebook_metadata_filter": "-all"
  }
 },
 "nbformat": 4,
 "nbformat_minor": 5
}

# Last modified: May 29, 2025
